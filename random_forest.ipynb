{
 "cells": [
  {
   "cell_type": "code",
   "execution_count": 1,
   "id": "50845f62",
   "metadata": {},
   "outputs": [],
   "source": [
    "import numpy as np\n",
    "import pandas as pd\n",
    "from scipy.stats import mode\n",
    "import matplotlib.pyplot as plt\n",
    "import seaborn as sns\n",
    "from sklearn.preprocessing import LabelEncoder\n",
    "from sklearn.model_selection import train_test_split, cross_val_score\n",
    "from sklearn.svm import SVC\n",
    "from sklearn.naive_bayes import GaussianNB\n",
    "from sklearn.ensemble import RandomForestClassifier\n",
    "from sklearn.metrics import accuracy_score, confusion_matrix"
   ]
  },
  {
   "cell_type": "code",
   "execution_count": 3,
   "id": "f5beffeb",
   "metadata": {},
   "outputs": [],
   "source": [
    "train_data = pd.read_csv(\"Training.csv\").dropna(axis=1)"
   ]
  },
  {
   "cell_type": "code",
   "execution_count": 4,
   "id": "7cac60dc",
   "metadata": {},
   "outputs": [],
   "source": [
    "test_data = pd.read_csv(\"Testing6.csv\")"
   ]
  },
  {
   "cell_type": "code",
   "execution_count": 5,
   "id": "f0d4046a",
   "metadata": {},
   "outputs": [],
   "source": [
    "encoder = LabelEncoder()"
   ]
  },
  {
   "cell_type": "code",
   "execution_count": 6,
   "id": "7cb3ed85",
   "metadata": {},
   "outputs": [],
   "source": [
    "train_data['prognosis'] = encoder.fit_transform(train_data['prognosis'])\n",
    "test_data['prognosis'] = encoder.fit_transform(test_data['prognosis'])"
   ]
  },
  {
   "cell_type": "code",
   "execution_count": 7,
   "id": "6f73c31b",
   "metadata": {},
   "outputs": [],
   "source": [
    "X_train = train_data.iloc[:,:-1]\n",
    "y_train=train_data.iloc[:,-1]"
   ]
  },
  {
   "cell_type": "code",
   "execution_count": 8,
   "id": "1e913e82",
   "metadata": {},
   "outputs": [],
   "source": [
    "X_test = test_data.iloc[:,:-1]\n",
    "y_test=test_data.iloc[:,-1]"
   ]
  },
  {
   "cell_type": "code",
   "execution_count": 13,
   "id": "c864b1a3",
   "metadata": {},
   "outputs": [
    {
     "data": {
      "text/plain": [
       "RandomForestClassifier()"
      ]
     },
     "execution_count": 13,
     "metadata": {},
     "output_type": "execute_result"
    }
   ],
   "source": [
    "rf = RandomForestClassifier()\n",
    "rf.fit(X_train,y_train)"
   ]
  },
  {
   "cell_type": "code",
   "execution_count": 14,
   "id": "05dd4890",
   "metadata": {},
   "outputs": [
    {
     "data": {
      "text/plain": [
       "0.8809523809523809"
      ]
     },
     "execution_count": 14,
     "metadata": {},
     "output_type": "execute_result"
    }
   ],
   "source": [
    "accuracy_score(y_test,rf.predict(X_test))"
   ]
  },
  {
   "cell_type": "code",
   "execution_count": 15,
   "id": "5456b41e",
   "metadata": {},
   "outputs": [],
   "source": [
    "from sklearn.metrics import classification_report\n"
   ]
  },
  {
   "cell_type": "code",
   "execution_count": 17,
   "id": "0dbf4870",
   "metadata": {},
   "outputs": [
    {
     "name": "stdout",
     "output_type": "stream",
     "text": [
      "              precision    recall  f1-score   support\n",
      "\n",
      "           0       1.00      0.67      0.80         3\n",
      "           1       1.00      1.00      1.00         3\n",
      "           2       1.00      1.00      1.00         3\n",
      "           3       0.40      0.67      0.50         3\n",
      "           4       1.00      0.67      0.80         3\n",
      "           5       1.00      1.00      1.00         3\n",
      "           6       0.50      0.67      0.57         3\n",
      "           7       1.00      0.67      0.80         3\n",
      "           8       1.00      1.00      1.00         3\n",
      "           9       1.00      1.00      1.00         3\n",
      "          10       1.00      1.00      1.00         3\n",
      "          11       1.00      1.00      1.00         3\n",
      "          12       0.60      1.00      0.75         3\n",
      "          13       1.00      1.00      1.00         3\n",
      "          14       1.00      1.00      1.00         3\n",
      "          15       1.00      0.50      0.67         6\n",
      "          16       1.00      1.00      1.00         3\n",
      "          17       1.00      1.00      1.00         3\n",
      "          18       1.00      1.00      1.00         3\n",
      "          19       0.60      1.00      0.75         3\n",
      "          20       0.75      1.00      0.86         3\n",
      "          21       0.75      1.00      0.86         3\n",
      "          22       0.67      0.67      0.67         3\n",
      "          23       1.00      1.00      1.00         3\n",
      "          24       1.00      1.00      1.00         3\n",
      "          25       1.00      1.00      1.00         3\n",
      "          26       1.00      1.00      1.00         3\n",
      "          27       0.75      1.00      0.86         3\n",
      "          28       1.00      1.00      1.00         3\n",
      "          29       1.00      0.33      0.50         3\n",
      "          30       1.00      1.00      1.00         3\n",
      "          31       1.00      1.00      1.00         3\n",
      "          32       1.00      0.67      0.80         3\n",
      "          33       1.00      0.67      0.80         3\n",
      "          34       1.00      1.00      1.00         3\n",
      "          35       0.75      1.00      0.86         3\n",
      "          36       1.00      1.00      1.00         3\n",
      "          37       1.00      1.00      1.00         3\n",
      "          38       0.75      1.00      0.86         3\n",
      "          39       1.00      0.33      0.50         3\n",
      "          40       1.00      1.00      1.00         3\n",
      "\n",
      "    accuracy                           0.88       126\n",
      "   macro avg       0.92      0.89      0.88       126\n",
      "weighted avg       0.92      0.88      0.88       126\n",
      "\n"
     ]
    }
   ],
   "source": [
    "print(classification_report(y_test,rf.predict(X_test)))"
   ]
  },
  {
   "cell_type": "code",
   "execution_count": 18,
   "id": "ef56135e",
   "metadata": {},
   "outputs": [],
   "source": [
    "from sklearn.metrics import confusion_matrix"
   ]
  },
  {
   "cell_type": "code",
   "execution_count": 21,
   "id": "5f2dcf08",
   "metadata": {},
   "outputs": [],
   "source": [
    "import numpy as np \n",
    "from sklearn.model_selection import RandomizedSearchCV"
   ]
  },
  {
   "cell_type": "code",
   "execution_count": 22,
   "id": "db45305b",
   "metadata": {},
   "outputs": [],
   "source": [
    "n_estimators = [int(x) for x in np.linspace(start=200 , stop=2000 , num=10)]\n",
    "max_features = ['auto' , 'sqrt' , 'log2']\n",
    "max_depth = [int(x) for x in np.linspace(10,1000,10)]\n",
    "min_samples_split = [1,3,4,5,7,9]\n",
    "min_samples_leaf =[1,2,4,6,8]\n",
    "random_grid ={'n_estimators':n_estimators,\n",
    "              'max_features':max_features,\n",
    "              'max_depth':max_depth,\n",
    "              'min_samples_split':min_samples_split,\n",
    "              'min_samples_leaf':min_samples_leaf,\n",
    "              'criterion':['entropy','gini']}"
   ]
  },
  {
   "cell_type": "code",
   "execution_count": 23,
   "id": "7ca51295",
   "metadata": {},
   "outputs": [
    {
     "name": "stdout",
     "output_type": "stream",
     "text": [
      "{'n_estimators': [200, 400, 600, 800, 1000, 1200, 1400, 1600, 1800, 2000], 'max_features': ['auto', 'sqrt', 'log2'], 'max_depth': [10, 120, 230, 340, 450, 560, 670, 780, 890, 1000], 'min_samples_split': [1, 3, 4, 5, 7, 9], 'min_samples_leaf': [1, 2, 4, 6, 8], 'criterion': ['entropy', 'gini']}\n"
     ]
    }
   ],
   "source": [
    "print(random_grid)"
   ]
  },
  {
   "cell_type": "code",
   "execution_count": 24,
   "id": "101b4e6b",
   "metadata": {},
   "outputs": [],
   "source": [
    "rf_randomcv = RandomizedSearchCV(estimator=rf ,param_distributions=random_grid,n_iter=100,cv=3,verbose=2,random_state=100,n_jobs=-1)"
   ]
  },
  {
   "cell_type": "code",
   "execution_count": 25,
   "id": "87b51623",
   "metadata": {},
   "outputs": [
    {
     "name": "stdout",
     "output_type": "stream",
     "text": [
      "Fitting 3 folds for each of 100 candidates, totalling 300 fits\n"
     ]
    },
    {
     "name": "stderr",
     "output_type": "stream",
     "text": [
      "/Library/Frameworks/Python.framework/Versions/3.9/lib/python3.9/site-packages/sklearn/model_selection/_validation.py:372: FitFailedWarning: \n",
      "51 fits failed out of a total of 300.\n",
      "The score on these train-test partitions for these parameters will be set to nan.\n",
      "If these failures are not expected, you can try to debug them by setting error_score='raise'.\n",
      "\n",
      "Below are more details about the failures:\n",
      "--------------------------------------------------------------------------------\n",
      "51 fits failed with the following error:\n",
      "Traceback (most recent call last):\n",
      "  File \"/Library/Frameworks/Python.framework/Versions/3.9/lib/python3.9/site-packages/sklearn/model_selection/_validation.py\", line 681, in _fit_and_score\n",
      "    estimator.fit(X_train, y_train, **fit_params)\n",
      "  File \"/Library/Frameworks/Python.framework/Versions/3.9/lib/python3.9/site-packages/sklearn/ensemble/_forest.py\", line 442, in fit\n",
      "    trees = Parallel(\n",
      "  File \"/Library/Frameworks/Python.framework/Versions/3.9/lib/python3.9/site-packages/joblib/parallel.py\", line 1043, in __call__\n",
      "    if self.dispatch_one_batch(iterator):\n",
      "  File \"/Library/Frameworks/Python.framework/Versions/3.9/lib/python3.9/site-packages/joblib/parallel.py\", line 861, in dispatch_one_batch\n",
      "    self._dispatch(tasks)\n",
      "  File \"/Library/Frameworks/Python.framework/Versions/3.9/lib/python3.9/site-packages/joblib/parallel.py\", line 779, in _dispatch\n",
      "    job = self._backend.apply_async(batch, callback=cb)\n",
      "  File \"/Library/Frameworks/Python.framework/Versions/3.9/lib/python3.9/site-packages/joblib/_parallel_backends.py\", line 208, in apply_async\n",
      "    result = ImmediateResult(func)\n",
      "  File \"/Library/Frameworks/Python.framework/Versions/3.9/lib/python3.9/site-packages/joblib/_parallel_backends.py\", line 572, in __init__\n",
      "    self.results = batch()\n",
      "  File \"/Library/Frameworks/Python.framework/Versions/3.9/lib/python3.9/site-packages/joblib/parallel.py\", line 262, in __call__\n",
      "    return [func(*args, **kwargs)\n",
      "  File \"/Library/Frameworks/Python.framework/Versions/3.9/lib/python3.9/site-packages/joblib/parallel.py\", line 262, in <listcomp>\n",
      "    return [func(*args, **kwargs)\n",
      "  File \"/Library/Frameworks/Python.framework/Versions/3.9/lib/python3.9/site-packages/sklearn/utils/fixes.py\", line 211, in __call__\n",
      "    return self.function(*args, **kwargs)\n",
      "  File \"/Library/Frameworks/Python.framework/Versions/3.9/lib/python3.9/site-packages/sklearn/ensemble/_forest.py\", line 185, in _parallel_build_trees\n",
      "    tree.fit(X, y, sample_weight=curr_sample_weight, check_input=False)\n",
      "  File \"/Library/Frameworks/Python.framework/Versions/3.9/lib/python3.9/site-packages/sklearn/tree/_classes.py\", line 937, in fit\n",
      "    super().fit(\n",
      "  File \"/Library/Frameworks/Python.framework/Versions/3.9/lib/python3.9/site-packages/sklearn/tree/_classes.py\", line 250, in fit\n",
      "    raise ValueError(\n",
      "ValueError: min_samples_split must be an integer greater than 1 or a float in (0.0, 1.0]; got the integer 1\n",
      "\n",
      "  warnings.warn(some_fits_failed_message, FitFailedWarning)\n",
      "/Library/Frameworks/Python.framework/Versions/3.9/lib/python3.9/site-packages/sklearn/model_selection/_search.py:969: UserWarning: One or more of the test scores are non-finite: [nan  1.  1.  1.  1.  1.  1. nan  1.  1. nan  1.  1.  1.  1.  1.  1.  1.\n",
      " nan nan  1.  1.  1.  1. nan nan  1.  1.  1.  1.  1. nan  1.  1. nan  1.\n",
      "  1.  1.  1.  1.  1.  1. nan  1.  1.  1.  1.  1.  1.  1. nan nan nan  1.\n",
      "  1.  1.  1.  1.  1.  1.  1.  1.  1.  1. nan nan  1.  1.  1.  1.  1.  1.\n",
      "  1.  1.  1.  1.  1.  1.  1.  1. nan  1.  1.  1.  1.  1.  1.  1.  1.  1.\n",
      "  1.  1.  1. nan  1.  1.  1.  1.  1.  1.]\n",
      "  warnings.warn(\n"
     ]
    },
    {
     "data": {
      "text/plain": [
       "RandomizedSearchCV(cv=3, estimator=RandomForestClassifier(), n_iter=100,\n",
       "                   n_jobs=-1,\n",
       "                   param_distributions={'criterion': ['entropy', 'gini'],\n",
       "                                        'max_depth': [10, 120, 230, 340, 450,\n",
       "                                                      560, 670, 780, 890,\n",
       "                                                      1000],\n",
       "                                        'max_features': ['auto', 'sqrt',\n",
       "                                                         'log2'],\n",
       "                                        'min_samples_leaf': [1, 2, 4, 6, 8],\n",
       "                                        'min_samples_split': [1, 3, 4, 5, 7, 9],\n",
       "                                        'n_estimators': [200, 400, 600, 800,\n",
       "                                                         1000, 1200, 1400, 1600,\n",
       "                                                         1800, 2000]},\n",
       "                   random_state=100, verbose=2)"
      ]
     },
     "execution_count": 25,
     "metadata": {},
     "output_type": "execute_result"
    }
   ],
   "source": [
    "rf_randomcv.fit(X_train,y_train)"
   ]
  },
  {
   "cell_type": "code",
   "execution_count": 26,
   "id": "e9602aea",
   "metadata": {},
   "outputs": [
    {
     "data": {
      "text/plain": [
       "{'n_estimators': 1600,\n",
       " 'min_samples_split': 7,\n",
       " 'min_samples_leaf': 1,\n",
       " 'max_features': 'log2',\n",
       " 'max_depth': 560,\n",
       " 'criterion': 'gini'}"
      ]
     },
     "execution_count": 26,
     "metadata": {},
     "output_type": "execute_result"
    }
   ],
   "source": [
    " rf_randomcv.best_params_"
   ]
  },
  {
   "cell_type": "code",
   "execution_count": 29,
   "id": "0ee09af1",
   "metadata": {},
   "outputs": [
    {
     "data": {
      "text/plain": [
       "RandomForestClassifier(max_depth=560, max_features='log2', min_samples_split=7,\n",
       "                       n_estimators=1600)"
      ]
     },
     "execution_count": 29,
     "metadata": {},
     "output_type": "execute_result"
    }
   ],
   "source": [
    "rf = RandomForestClassifier(n_estimators=1600,\n",
    " min_samples_split= 7,\n",
    " min_samples_leaf= 1,\n",
    " max_features= 'log2',\n",
    " max_depth= 560,\n",
    " criterion ='gini')\n",
    "rf.fit(X_train,y_train)"
   ]
  },
  {
   "cell_type": "code",
   "execution_count": 30,
   "id": "c6fb26fc",
   "metadata": {},
   "outputs": [
    {
     "data": {
      "text/plain": [
       "0.9126984126984127"
      ]
     },
     "execution_count": 30,
     "metadata": {},
     "output_type": "execute_result"
    }
   ],
   "source": [
    "accuracy_score(y_test,rf.predict(X_test))"
   ]
  },
  {
   "cell_type": "code",
   "execution_count": 31,
   "id": "20a038c1",
   "metadata": {},
   "outputs": [
    {
     "name": "stdout",
     "output_type": "stream",
     "text": [
      "              precision    recall  f1-score   support\n",
      "\n",
      "           0       1.00      1.00      1.00         3\n",
      "           1       1.00      1.00      1.00         3\n",
      "           2       1.00      1.00      1.00         3\n",
      "           3       0.67      0.67      0.67         3\n",
      "           4       1.00      1.00      1.00         3\n",
      "           5       1.00      1.00      1.00         3\n",
      "           6       1.00      1.00      1.00         3\n",
      "           7       1.00      0.67      0.80         3\n",
      "           8       1.00      1.00      1.00         3\n",
      "           9       1.00      1.00      1.00         3\n",
      "          10       1.00      1.00      1.00         3\n",
      "          11       1.00      1.00      1.00         3\n",
      "          12       0.75      1.00      0.86         3\n",
      "          13       1.00      1.00      1.00         3\n",
      "          14       1.00      1.00      1.00         3\n",
      "          15       1.00      0.50      0.67         6\n",
      "          16       1.00      1.00      1.00         3\n",
      "          17       1.00      1.00      1.00         3\n",
      "          18       1.00      1.00      1.00         3\n",
      "          19       1.00      1.00      1.00         3\n",
      "          20       0.75      1.00      0.86         3\n",
      "          21       0.75      1.00      0.86         3\n",
      "          22       0.50      0.67      0.57         3\n",
      "          23       1.00      1.00      1.00         3\n",
      "          24       1.00      1.00      1.00         3\n",
      "          25       1.00      1.00      1.00         3\n",
      "          26       1.00      1.00      1.00         3\n",
      "          27       0.60      1.00      0.75         3\n",
      "          28       1.00      1.00      1.00         3\n",
      "          29       1.00      0.33      0.50         3\n",
      "          30       1.00      1.00      1.00         3\n",
      "          31       1.00      1.00      1.00         3\n",
      "          32       1.00      0.67      0.80         3\n",
      "          33       1.00      0.67      0.80         3\n",
      "          34       1.00      1.00      1.00         3\n",
      "          35       0.50      1.00      0.67         3\n",
      "          36       1.00      1.00      1.00         3\n",
      "          37       1.00      1.00      1.00         3\n",
      "          38       1.00      1.00      1.00         3\n",
      "          39       1.00      0.67      0.80         3\n",
      "          40       1.00      1.00      1.00         3\n",
      "\n",
      "    accuracy                           0.91       126\n",
      "   macro avg       0.94      0.92      0.92       126\n",
      "weighted avg       0.94      0.91      0.91       126\n",
      "\n",
      "[CV] END criterion=gini, max_depth=340, max_features=sqrt, min_samples_leaf=2, min_samples_split=9, n_estimators=2000; total time=  14.2s\n",
      "[CV] END criterion=gini, max_depth=890, max_features=sqrt, min_samples_leaf=6, min_samples_split=9, n_estimators=1000; total time=   7.4s\n",
      "[CV] END criterion=gini, max_depth=450, max_features=log2, min_samples_leaf=2, min_samples_split=5, n_estimators=1600; total time=  10.3s\n",
      "[CV] END criterion=gini, max_depth=230, max_features=log2, min_samples_leaf=2, min_samples_split=5, n_estimators=600; total time=   4.1s\n",
      "[CV] END criterion=entropy, max_depth=890, max_features=sqrt, min_samples_leaf=6, min_samples_split=9, n_estimators=1800; total time=  12.3s\n",
      "[CV] END criterion=entropy, max_depth=340, max_features=sqrt, min_samples_leaf=6, min_samples_split=5, n_estimators=800; total time=   5.1s\n",
      "[CV] END criterion=gini, max_depth=230, max_features=auto, min_samples_leaf=1, min_samples_split=7, n_estimators=800; total time=   6.5s\n",
      "[CV] END criterion=gini, max_depth=120, max_features=log2, min_samples_leaf=1, min_samples_split=9, n_estimators=1600; total time=  12.0s\n",
      "[CV] END criterion=entropy, max_depth=560, max_features=auto, min_samples_leaf=6, min_samples_split=5, n_estimators=800; total time=   5.8s\n",
      "[CV] END criterion=gini, max_depth=340, max_features=log2, min_samples_leaf=8, min_samples_split=5, n_estimators=400; total time=   2.3s\n",
      "[CV] END criterion=entropy, max_depth=340, max_features=auto, min_samples_leaf=8, min_samples_split=9, n_estimators=600; total time=   4.5s\n",
      "[CV] END criterion=gini, max_depth=230, max_features=log2, min_samples_leaf=4, min_samples_split=7, n_estimators=1600; total time=  18.1s\n",
      "[CV] END criterion=entropy, max_depth=1000, max_features=sqrt, min_samples_leaf=2, min_samples_split=1, n_estimators=1400; total time=   1.4s\n",
      "[CV] END criterion=entropy, max_depth=1000, max_features=sqrt, min_samples_leaf=2, min_samples_split=1, n_estimators=1400; total time=   1.4s\n",
      "[CV] END criterion=entropy, max_depth=1000, max_features=sqrt, min_samples_leaf=2, min_samples_split=1, n_estimators=1400; total time=   1.3s\n",
      "[CV] END criterion=entropy, max_depth=120, max_features=log2, min_samples_leaf=6, min_samples_split=9, n_estimators=1800; total time=  12.2s\n",
      "[CV] END criterion=entropy, max_depth=10, max_features=sqrt, min_samples_leaf=6, min_samples_split=1, n_estimators=1800; total time=   1.5s\n",
      "[CV] END criterion=entropy, max_depth=10, max_features=sqrt, min_samples_leaf=6, min_samples_split=1, n_estimators=1800; total time=   1.5s\n",
      "[CV] END criterion=gini, max_depth=670, max_features=log2, min_samples_leaf=6, min_samples_split=1, n_estimators=600; total time=   0.5s\n",
      "[CV] END criterion=entropy, max_depth=560, max_features=log2, min_samples_leaf=6, min_samples_split=4, n_estimators=1200; total time=   6.4s\n",
      "[CV] END criterion=entropy, max_depth=450, max_features=log2, min_samples_leaf=1, min_samples_split=4, n_estimators=1600; total time=   8.8s\n",
      "[CV] END criterion=gini, max_depth=780, max_features=log2, min_samples_leaf=4, min_samples_split=9, n_estimators=2000; total time=  12.1s\n",
      "[CV] END criterion=gini, max_depth=230, max_features=log2, min_samples_leaf=1, min_samples_split=7, n_estimators=1000; total time=   5.9s\n",
      "[CV] END criterion=gini, max_depth=1000, max_features=auto, min_samples_leaf=4, min_samples_split=1, n_estimators=800; total time=   0.6s\n",
      "[CV] END criterion=gini, max_depth=1000, max_features=auto, min_samples_leaf=4, min_samples_split=1, n_estimators=800; total time=   0.6s\n",
      "[CV] END criterion=entropy, max_depth=340, max_features=sqrt, min_samples_leaf=8, min_samples_split=7, n_estimators=1400; total time=   7.5s\n",
      "[CV] END criterion=entropy, max_depth=890, max_features=log2, min_samples_leaf=4, min_samples_split=7, n_estimators=2000; total time=  10.8s\n",
      "[CV] END criterion=gini, max_depth=670, max_features=auto, min_samples_leaf=1, min_samples_split=5, n_estimators=1800; total time=  12.6s\n",
      "[CV] END criterion=gini, max_depth=1000, max_features=log2, min_samples_leaf=4, min_samples_split=7, n_estimators=200; total time=   1.2s\n",
      "[CV] END criterion=entropy, max_depth=560, max_features=sqrt, min_samples_leaf=2, min_samples_split=1, n_estimators=400; total time=   0.3s\n",
      "[CV] END criterion=entropy, max_depth=560, max_features=sqrt, min_samples_leaf=2, min_samples_split=1, n_estimators=400; total time=   0.3s\n",
      "[CV] END criterion=entropy, max_depth=560, max_features=sqrt, min_samples_leaf=2, min_samples_split=1, n_estimators=400; total time=   0.3s\n",
      "[CV] END criterion=gini, max_depth=670, max_features=log2, min_samples_leaf=8, min_samples_split=7, n_estimators=200; total time=   1.1s\n",
      "[CV] END criterion=entropy, max_depth=340, max_features=log2, min_samples_leaf=8, min_samples_split=4, n_estimators=1800; total time=   8.9s\n",
      "[CV] END criterion=entropy, max_depth=670, max_features=sqrt, min_samples_leaf=6, min_samples_split=9, n_estimators=2000; total time=  10.8s\n",
      "[CV] END criterion=entropy, max_depth=560, max_features=auto, min_samples_leaf=1, min_samples_split=5, n_estimators=1200; total time=   7.0s\n",
      "[CV] END criterion=gini, max_depth=10, max_features=log2, min_samples_leaf=2, min_samples_split=7, n_estimators=400; total time=   1.9s\n",
      "[CV] END criterion=entropy, max_depth=10, max_features=sqrt, min_samples_leaf=4, min_samples_split=1, n_estimators=2000; total time=   1.4s\n",
      "[CV] END criterion=entropy, max_depth=10, max_features=sqrt, min_samples_leaf=4, min_samples_split=1, n_estimators=2000; total time=   1.4s\n",
      "[CV] END criterion=gini, max_depth=1000, max_features=auto, min_samples_leaf=2, min_samples_split=4, n_estimators=1600; total time=  10.9s\n",
      "[CV] END criterion=entropy, max_depth=670, max_features=auto, min_samples_leaf=8, min_samples_split=1, n_estimators=200; total time=   0.1s\n",
      "[CV] END criterion=entropy, max_depth=10, max_features=auto, min_samples_leaf=2, min_samples_split=3, n_estimators=2000; total time=  10.1s\n",
      "[CV] END criterion=gini, max_depth=890, max_features=auto, min_samples_leaf=2, min_samples_split=7, n_estimators=1000; total time=   8.3s\n",
      "[CV] END criterion=entropy, max_depth=890, max_features=log2, min_samples_leaf=2, min_samples_split=7, n_estimators=1400; total time=   8.5s\n",
      "[CV] END criterion=gini, max_depth=230, max_features=auto, min_samples_leaf=6, min_samples_split=3, n_estimators=600; total time=   4.5s\n",
      "[CV] END criterion=gini, max_depth=230, max_features=auto, min_samples_leaf=6, min_samples_split=3, n_estimators=600; total time=   4.5s\n",
      "[CV] END criterion=gini, max_depth=230, max_features=sqrt, min_samples_leaf=1, min_samples_split=9, n_estimators=600; total time=   5.7s\n",
      "[CV] END criterion=entropy, max_depth=670, max_features=sqrt, min_samples_leaf=2, min_samples_split=1, n_estimators=2000; total time=   1.7s\n",
      "[CV] END criterion=gini, max_depth=780, max_features=auto, min_samples_leaf=4, min_samples_split=5, n_estimators=800; total time=   6.5s\n",
      "[CV] END criterion=gini, max_depth=450, max_features=sqrt, min_samples_leaf=1, min_samples_split=1, n_estimators=200; total time=   0.2s\n",
      "[CV] END criterion=gini, max_depth=450, max_features=sqrt, min_samples_leaf=1, min_samples_split=1, n_estimators=200; total time=   0.2s\n",
      "[CV] END criterion=gini, max_depth=450, max_features=sqrt, min_samples_leaf=1, min_samples_split=1, n_estimators=200; total time=   0.2s\n",
      "[CV] END criterion=gini, max_depth=230, max_features=auto, min_samples_leaf=1, min_samples_split=7, n_estimators=800; total time=   6.5s\n",
      "[CV] END criterion=gini, max_depth=230, max_features=log2, min_samples_leaf=8, min_samples_split=9, n_estimators=1200; total time=   7.8s\n",
      "[CV] END criterion=gini, max_depth=450, max_features=sqrt, min_samples_leaf=4, min_samples_split=9, n_estimators=200; total time=   2.1s\n",
      "[CV] END criterion=gini, max_depth=450, max_features=sqrt, min_samples_leaf=4, min_samples_split=9, n_estimators=200; total time=   1.8s\n",
      "[CV] END criterion=gini, max_depth=890, max_features=auto, min_samples_leaf=6, min_samples_split=1, n_estimators=1400; total time=   1.3s\n",
      "[CV] END criterion=entropy, max_depth=10, max_features=log2, min_samples_leaf=8, min_samples_split=7, n_estimators=2000; total time=  11.6s\n",
      "[CV] END criterion=entropy, max_depth=340, max_features=auto, min_samples_leaf=8, min_samples_split=9, n_estimators=600; total time=   6.0s\n",
      "[CV] END criterion=entropy, max_depth=10, max_features=log2, min_samples_leaf=6, min_samples_split=4, n_estimators=1400; total time=  13.3s\n",
      "[CV] END criterion=gini, max_depth=120, max_features=sqrt, min_samples_leaf=6, min_samples_split=5, n_estimators=600; total time=   5.4s\n",
      "[CV] END criterion=entropy, max_depth=120, max_features=log2, min_samples_leaf=6, min_samples_split=9, n_estimators=1800; total time=  12.2s\n",
      "[CV] END criterion=entropy, max_depth=670, max_features=log2, min_samples_leaf=6, min_samples_split=5, n_estimators=600; total time=   3.5s\n",
      "[CV] END criterion=entropy, max_depth=450, max_features=sqrt, min_samples_leaf=6, min_samples_split=4, n_estimators=2000; total time=  11.3s\n",
      "[CV] END criterion=gini, max_depth=780, max_features=log2, min_samples_leaf=4, min_samples_split=9, n_estimators=2000; total time=  11.4s\n",
      "[CV] END criterion=gini, max_depth=450, max_features=log2, min_samples_leaf=8, min_samples_split=7, n_estimators=1800; total time=  10.1s\n",
      "[CV] END criterion=entropy, max_depth=120, max_features=log2, min_samples_leaf=8, min_samples_split=9, n_estimators=1600; total time=   7.7s\n",
      "[CV] END criterion=entropy, max_depth=670, max_features=log2, min_samples_leaf=6, min_samples_split=9, n_estimators=2000; total time=  10.6s\n",
      "[CV] END criterion=gini, max_depth=670, max_features=auto, min_samples_leaf=8, min_samples_split=3, n_estimators=200; total time=   1.4s\n",
      "[CV] END criterion=gini, max_depth=670, max_features=auto, min_samples_leaf=1, min_samples_split=5, n_estimators=1800; total time=  12.6s\n",
      "[CV] END criterion=gini, max_depth=1000, max_features=log2, min_samples_leaf=4, min_samples_split=7, n_estimators=200; total time=   1.1s\n",
      "[CV] END criterion=gini, max_depth=1000, max_features=log2, min_samples_leaf=4, min_samples_split=7, n_estimators=200; total time=   1.2s\n",
      "[CV] END criterion=gini, max_depth=670, max_features=log2, min_samples_leaf=8, min_samples_split=7, n_estimators=200; total time=   1.1s\n",
      "[CV] END criterion=entropy, max_depth=340, max_features=log2, min_samples_leaf=8, min_samples_split=4, n_estimators=1800; total time=   8.7s\n",
      "[CV] END criterion=gini, max_depth=230, max_features=log2, min_samples_leaf=4, min_samples_split=5, n_estimators=2000; total time=  12.0s\n",
      "[CV] END criterion=entropy, max_depth=560, max_features=sqrt, min_samples_leaf=2, min_samples_split=7, n_estimators=2000; total time=  11.2s\n",
      "[CV] END criterion=gini, max_depth=1000, max_features=auto, min_samples_leaf=2, min_samples_split=4, n_estimators=1600; total time=  11.1s\n"
     ]
    },
    {
     "name": "stdout",
     "output_type": "stream",
     "text": [
      "[CV] END criterion=gini, max_depth=340, max_features=sqrt, min_samples_leaf=2, min_samples_split=9, n_estimators=2000; total time=  13.8s\n",
      "[CV] END criterion=gini, max_depth=890, max_features=sqrt, min_samples_leaf=6, min_samples_split=9, n_estimators=1000; total time=   7.4s\n",
      "[CV] END criterion=gini, max_depth=1000, max_features=auto, min_samples_leaf=2, min_samples_split=4, n_estimators=1400; total time=  10.9s\n",
      "[CV] END criterion=gini, max_depth=230, max_features=log2, min_samples_leaf=2, min_samples_split=5, n_estimators=600; total time=   4.0s\n",
      "[CV] END criterion=entropy, max_depth=890, max_features=sqrt, min_samples_leaf=6, min_samples_split=9, n_estimators=1800; total time=  12.6s\n",
      "[CV] END criterion=entropy, max_depth=340, max_features=sqrt, min_samples_leaf=6, min_samples_split=5, n_estimators=800; total time=   5.1s\n",
      "[CV] END criterion=gini, max_depth=340, max_features=sqrt, min_samples_leaf=6, min_samples_split=5, n_estimators=2000; total time=  16.0s\n",
      "[CV] END criterion=entropy, max_depth=10, max_features=log2, min_samples_leaf=8, min_samples_split=7, n_estimators=2000; total time=  11.4s\n",
      "[CV] END criterion=entropy, max_depth=340, max_features=auto, min_samples_leaf=8, min_samples_split=9, n_estimators=600; total time=   5.7s\n",
      "[CV] END criterion=entropy, max_depth=450, max_features=sqrt, min_samples_leaf=1, min_samples_split=7, n_estimators=2000; total time=  20.7s\n",
      "[CV] END criterion=gini, max_depth=10, max_features=log2, min_samples_leaf=4, min_samples_split=4, n_estimators=400; total time=   2.5s\n",
      "[CV] END criterion=gini, max_depth=10, max_features=log2, min_samples_leaf=4, min_samples_split=4, n_estimators=400; total time=   2.7s\n",
      "[CV] END criterion=gini, max_depth=780, max_features=auto, min_samples_leaf=2, min_samples_split=5, n_estimators=200; total time=   1.9s\n",
      "[CV] END criterion=entropy, max_depth=890, max_features=auto, min_samples_leaf=1, min_samples_split=4, n_estimators=400; total time=   3.4s\n",
      "[CV] END criterion=entropy, max_depth=670, max_features=log2, min_samples_leaf=6, min_samples_split=5, n_estimators=600; total time=   3.5s\n",
      "[CV] END criterion=gini, max_depth=670, max_features=log2, min_samples_leaf=6, min_samples_split=1, n_estimators=600; total time=   0.5s\n",
      "[CV] END criterion=gini, max_depth=780, max_features=auto, min_samples_leaf=2, min_samples_split=1, n_estimators=200; total time=   0.2s\n",
      "[CV] END criterion=gini, max_depth=780, max_features=auto, min_samples_leaf=2, min_samples_split=1, n_estimators=200; total time=   0.2s\n",
      "[CV] END criterion=entropy, max_depth=560, max_features=log2, min_samples_leaf=6, min_samples_split=4, n_estimators=1200; total time=   6.2s\n",
      "[CV] END criterion=gini, max_depth=120, max_features=log2, min_samples_leaf=2, min_samples_split=7, n_estimators=600; total time=   3.6s\n",
      "[CV] END criterion=entropy, max_depth=120, max_features=log2, min_samples_leaf=4, min_samples_split=7, n_estimators=1600; total time=   8.0s\n",
      "[CV] END criterion=gini, max_depth=560, max_features=auto, min_samples_leaf=1, min_samples_split=4, n_estimators=1600; total time=  11.5s\n",
      "[CV] END criterion=entropy, max_depth=120, max_features=log2, min_samples_leaf=8, min_samples_split=9, n_estimators=1600; total time=   7.6s\n",
      "[CV] END criterion=gini, max_depth=230, max_features=auto, min_samples_leaf=8, min_samples_split=9, n_estimators=600; total time=   3.9s\n",
      "[CV] END criterion=gini, max_depth=560, max_features=sqrt, min_samples_leaf=4, min_samples_split=3, n_estimators=1800; total time=  12.8s\n",
      "[CV] END criterion=entropy, max_depth=890, max_features=auto, min_samples_leaf=6, min_samples_split=7, n_estimators=1000; total time=   5.6s\n",
      "[CV] END criterion=gini, max_depth=120, max_features=auto, min_samples_leaf=1, min_samples_split=3, n_estimators=400; total time=   2.8s\n",
      "[CV] END criterion=entropy, max_depth=1000, max_features=sqrt, min_samples_leaf=1, min_samples_split=3, n_estimators=1800; total time=  10.7s\n",
      "[CV] END criterion=entropy, max_depth=120, max_features=log2, min_samples_leaf=6, min_samples_split=4, n_estimators=400; total time=   2.0s\n",
      "[CV] END criterion=entropy, max_depth=670, max_features=sqrt, min_samples_leaf=1, min_samples_split=7, n_estimators=1800; total time=  10.8s\n",
      "[CV] END criterion=entropy, max_depth=230, max_features=log2, min_samples_leaf=6, min_samples_split=7, n_estimators=1400; total time=   7.0s\n",
      "[CV] END criterion=entropy, max_depth=560, max_features=sqrt, min_samples_leaf=2, min_samples_split=7, n_estimators=2000; total time=  11.7s\n",
      "[CV] END criterion=entropy, max_depth=120, max_features=auto, min_samples_leaf=4, min_samples_split=4, n_estimators=200; total time=   1.1s\n",
      "[CV] END criterion=entropy, max_depth=120, max_features=auto, min_samples_leaf=4, min_samples_split=4, n_estimators=200; total time=   1.2s\n",
      "[CV] END criterion=gini, max_depth=340, max_features=auto, min_samples_leaf=1, min_samples_split=5, n_estimators=200; total time=   1.4s\n",
      "[CV] END criterion=gini, max_depth=670, max_features=sqrt, min_samples_leaf=8, min_samples_split=3, n_estimators=1600; total time=   9.1s\n",
      "[CV] END criterion=gini, max_depth=560, max_features=log2, min_samples_leaf=1, min_samples_split=7, n_estimators=1600; total time=   9.2s\n",
      "[CV] END criterion=gini, max_depth=890, max_features=auto, min_samples_leaf=2, min_samples_split=7, n_estimators=1000; total time=   8.0s\n",
      "[CV] END criterion=gini, max_depth=560, max_features=log2, min_samples_leaf=4, min_samples_split=7, n_estimators=200; total time=   1.3s\n",
      "[CV] END criterion=entropy, max_depth=890, max_features=log2, min_samples_leaf=2, min_samples_split=7, n_estimators=1400; total time=   7.9s\n",
      "[CV] END criterion=gini, max_depth=450, max_features=log2, min_samples_leaf=2, min_samples_split=5, n_estimators=1600; total time=  10.6s\n",
      "[CV] END criterion=gini, max_depth=230, max_features=sqrt, min_samples_leaf=1, min_samples_split=9, n_estimators=600; total time=   5.9s\n",
      "[CV] END criterion=gini, max_depth=780, max_features=auto, min_samples_leaf=4, min_samples_split=5, n_estimators=800; total time=   6.2s\n",
      "[CV] END criterion=entropy, max_depth=340, max_features=sqrt, min_samples_leaf=6, min_samples_split=5, n_estimators=800; total time=   5.2s\n",
      "[CV] END criterion=gini, max_depth=340, max_features=sqrt, min_samples_leaf=6, min_samples_split=5, n_estimators=2000; total time=  16.4s\n",
      "[CV] END criterion=entropy, max_depth=560, max_features=auto, min_samples_leaf=6, min_samples_split=5, n_estimators=800; total time=   5.4s\n",
      "[CV] END criterion=gini, max_depth=890, max_features=auto, min_samples_leaf=4, min_samples_split=5, n_estimators=1000; total time=   9.0s\n",
      "[CV] END criterion=entropy, max_depth=450, max_features=sqrt, min_samples_leaf=1, min_samples_split=7, n_estimators=2000; total time=  21.3s\n",
      "[CV] END criterion=entropy, max_depth=780, max_features=log2, min_samples_leaf=4, min_samples_split=9, n_estimators=1000; total time=   7.1s\n",
      "[CV] END criterion=entropy, max_depth=1000, max_features=auto, min_samples_leaf=2, min_samples_split=7, n_estimators=2000; total time=  14.2s\n",
      "[CV] END criterion=gini, max_depth=120, max_features=log2, min_samples_leaf=2, min_samples_split=7, n_estimators=600; total time=   3.7s\n",
      "[CV] END criterion=entropy, max_depth=450, max_features=log2, min_samples_leaf=1, min_samples_split=4, n_estimators=1600; total time=   9.0s\n",
      "[CV] END criterion=gini, max_depth=560, max_features=auto, min_samples_leaf=1, min_samples_split=4, n_estimators=1600; total time=  11.5s\n",
      "[CV] END criterion=gini, max_depth=560, max_features=log2, min_samples_leaf=1, min_samples_split=4, n_estimators=800; total time=   4.7s\n",
      "[CV] END criterion=entropy, max_depth=670, max_features=log2, min_samples_leaf=6, min_samples_split=1, n_estimators=600; total time=   0.4s\n",
      "[CV] END criterion=entropy, max_depth=340, max_features=sqrt, min_samples_leaf=8, min_samples_split=7, n_estimators=1400; total time=   7.3s\n",
      "[CV] END criterion=entropy, max_depth=890, max_features=log2, min_samples_leaf=4, min_samples_split=7, n_estimators=2000; total time=  10.4s\n",
      "[CV] END criterion=gini, max_depth=670, max_features=auto, min_samples_leaf=1, min_samples_split=5, n_estimators=1800; total time=  12.5s\n",
      "[CV] END criterion=entropy, max_depth=560, max_features=sqrt, min_samples_leaf=2, min_samples_split=9, n_estimators=1000; total time=   5.9s\n",
      "[CV] END criterion=entropy, max_depth=1000, max_features=sqrt, min_samples_leaf=1, min_samples_split=9, n_estimators=1000; total time=   5.8s\n",
      "[CV] END criterion=gini, max_depth=230, max_features=log2, min_samples_leaf=4, min_samples_split=5, n_estimators=2000; total time=  11.3s\n",
      "[CV] END criterion=entropy, max_depth=230, max_features=log2, min_samples_leaf=6, min_samples_split=7, n_estimators=1400; total time=   7.1s\n",
      "[CV] END criterion=gini, max_depth=10, max_features=log2, min_samples_leaf=2, min_samples_split=7, n_estimators=400; total time=   1.9s\n",
      "[CV] END criterion=entropy, max_depth=230, max_features=sqrt, min_samples_leaf=1, min_samples_split=5, n_estimators=1600; total time=   9.5s\n",
      "[CV] END criterion=entropy, max_depth=890, max_features=log2, min_samples_leaf=6, min_samples_split=7, n_estimators=600; total time=   3.0s\n",
      "[CV] END criterion=gini, max_depth=230, max_features=log2, min_samples_leaf=2, min_samples_split=4, n_estimators=1600; total time=   7.9s\n"
     ]
    },
    {
     "name": "stdout",
     "output_type": "stream",
     "text": [
      "[CV] END criterion=entropy, max_depth=670, max_features=auto, min_samples_leaf=8, min_samples_split=1, n_estimators=200; total time=   0.2s\n",
      "[CV] END criterion=entropy, max_depth=10, max_features=auto, min_samples_leaf=2, min_samples_split=3, n_estimators=2000; total time=  10.4s\n",
      "[CV] END criterion=gini, max_depth=890, max_features=sqrt, min_samples_leaf=6, min_samples_split=9, n_estimators=1000; total time=   7.9s\n",
      "[CV] END criterion=gini, max_depth=560, max_features=sqrt, min_samples_leaf=2, min_samples_split=5, n_estimators=200; total time=   1.5s\n",
      "[CV] END criterion=entropy, max_depth=670, max_features=auto, min_samples_leaf=8, min_samples_split=1, n_estimators=1400; total time=   1.1s\n",
      "[CV] END criterion=gini, max_depth=1000, max_features=auto, min_samples_leaf=2, min_samples_split=4, n_estimators=1400; total time=  10.6s\n",
      "[CV] END criterion=gini, max_depth=230, max_features=log2, min_samples_leaf=2, min_samples_split=5, n_estimators=600; total time=   3.9s\n",
      "[CV] END criterion=entropy, max_depth=890, max_features=sqrt, min_samples_leaf=6, min_samples_split=9, n_estimators=1800; total time=  12.0s\n",
      "[CV] END criterion=entropy, max_depth=670, max_features=sqrt, min_samples_leaf=2, min_samples_split=4, n_estimators=1600; total time=  11.0s\n",
      "[CV] END criterion=gini, max_depth=120, max_features=log2, min_samples_leaf=1, min_samples_split=9, n_estimators=1600; total time=  11.9s\n",
      "[CV] END criterion=entropy, max_depth=560, max_features=auto, min_samples_leaf=6, min_samples_split=5, n_estimators=800; total time=   5.3s\n",
      "[CV] END criterion=entropy, max_depth=230, max_features=log2, min_samples_leaf=4, min_samples_split=1, n_estimators=1400; total time=   1.5s\n",
      "[CV] END criterion=gini, max_depth=890, max_features=auto, min_samples_leaf=4, min_samples_split=5, n_estimators=1000; total time=   9.5s\n",
      "[CV] END criterion=entropy, max_depth=10, max_features=log2, min_samples_leaf=6, min_samples_split=4, n_estimators=1400; total time=  13.8s\n",
      "[CV] END criterion=gini, max_depth=120, max_features=sqrt, min_samples_leaf=6, min_samples_split=5, n_estimators=600; total time=   5.3s\n",
      "[CV] END criterion=entropy, max_depth=780, max_features=log2, min_samples_leaf=4, min_samples_split=9, n_estimators=1000; total time=   6.8s\n",
      "[CV] END criterion=entropy, max_depth=1000, max_features=auto, min_samples_leaf=2, min_samples_split=7, n_estimators=2000; total time=  13.6s\n",
      "[CV] END criterion=entropy, max_depth=560, max_features=log2, min_samples_leaf=6, min_samples_split=4, n_estimators=1200; total time=   6.2s\n",
      "[CV] END criterion=entropy, max_depth=120, max_features=log2, min_samples_leaf=4, min_samples_split=7, n_estimators=1600; total time=   8.3s\n",
      "[CV] END criterion=gini, max_depth=450, max_features=log2, min_samples_leaf=8, min_samples_split=7, n_estimators=1800; total time=  10.2s\n",
      "[CV] END criterion=gini, max_depth=230, max_features=log2, min_samples_leaf=1, min_samples_split=7, n_estimators=1000; total time=   5.9s\n",
      "[CV] END criterion=entropy, max_depth=560, max_features=log2, min_samples_leaf=6, min_samples_split=3, n_estimators=200; total time=   0.9s\n",
      "[CV] END criterion=entropy, max_depth=560, max_features=log2, min_samples_leaf=6, min_samples_split=3, n_estimators=200; total time=   1.0s\n",
      "[CV] END criterion=gini, max_depth=230, max_features=auto, min_samples_leaf=8, min_samples_split=9, n_estimators=600; total time=   3.9s\n",
      "[CV] END criterion=gini, max_depth=560, max_features=sqrt, min_samples_leaf=4, min_samples_split=3, n_estimators=1800; total time=  12.5s\n",
      "[CV] END criterion=entropy, max_depth=890, max_features=auto, min_samples_leaf=6, min_samples_split=7, n_estimators=1000; total time=   5.5s\n",
      "[CV] END criterion=gini, max_depth=120, max_features=auto, min_samples_leaf=1, min_samples_split=3, n_estimators=400; total time=   2.7s\n",
      "[CV] END criterion=entropy, max_depth=1000, max_features=sqrt, min_samples_leaf=1, min_samples_split=3, n_estimators=1800; total time=  10.5s\n",
      "[CV] END criterion=entropy, max_depth=1000, max_features=sqrt, min_samples_leaf=1, min_samples_split=9, n_estimators=1000; total time=   5.9s\n",
      "[CV] END criterion=entropy, max_depth=670, max_features=sqrt, min_samples_leaf=6, min_samples_split=9, n_estimators=2000; total time=  11.2s\n",
      "[CV] END criterion=entropy, max_depth=560, max_features=auto, min_samples_leaf=1, min_samples_split=5, n_estimators=1200; total time=   7.1s\n",
      "[CV] END criterion=entropy, max_depth=230, max_features=sqrt, min_samples_leaf=1, min_samples_split=5, n_estimators=1600; total time=   9.3s\n",
      "[CV] END criterion=entropy, max_depth=120, max_features=auto, min_samples_leaf=4, min_samples_split=4, n_estimators=200; total time=   1.1s\n",
      "[CV] END criterion=gini, max_depth=340, max_features=auto, min_samples_leaf=1, min_samples_split=5, n_estimators=200; total time=   1.4s\n",
      "[CV] END criterion=gini, max_depth=340, max_features=auto, min_samples_leaf=1, min_samples_split=5, n_estimators=200; total time=   1.4s\n",
      "[CV] END criterion=gini, max_depth=230, max_features=log2, min_samples_leaf=2, min_samples_split=4, n_estimators=1600; total time=   8.1s\n",
      "[CV] END criterion=gini, max_depth=560, max_features=log2, min_samples_leaf=1, min_samples_split=7, n_estimators=1600; total time=   9.4s\n",
      "[CV] END criterion=gini, max_depth=890, max_features=auto, min_samples_leaf=2, min_samples_split=7, n_estimators=1000; total time=   8.2s\n",
      "[CV] END criterion=gini, max_depth=120, max_features=auto, min_samples_leaf=6, min_samples_split=1, n_estimators=600; total time=   0.5s\n",
      "[CV] END criterion=gini, max_depth=560, max_features=sqrt, min_samples_leaf=2, min_samples_split=5, n_estimators=200; total time=   1.5s\n",
      "[CV] END criterion=entropy, max_depth=890, max_features=log2, min_samples_leaf=2, min_samples_split=7, n_estimators=1400; total time=   8.4s\n",
      "[CV] END criterion=gini, max_depth=230, max_features=auto, min_samples_leaf=6, min_samples_split=3, n_estimators=600; total time=   4.6s\n",
      "[CV] END criterion=gini, max_depth=1000, max_features=log2, min_samples_leaf=1, min_samples_split=4, n_estimators=1000; total time=   6.9s\n",
      "[CV] END criterion=gini, max_depth=10, max_features=log2, min_samples_leaf=4, min_samples_split=1, n_estimators=800; total time=   1.2s\n",
      "[CV] END criterion=gini, max_depth=10, max_features=log2, min_samples_leaf=4, min_samples_split=1, n_estimators=800; total time=   1.0s\n",
      "[CV] END criterion=entropy, max_depth=670, max_features=sqrt, min_samples_leaf=2, min_samples_split=1, n_estimators=2000; total time=   1.7s\n",
      "[CV] END criterion=entropy, max_depth=670, max_features=log2, min_samples_leaf=6, min_samples_split=9, n_estimators=200; total time=   1.2s\n",
      "[CV] END criterion=entropy, max_depth=670, max_features=log2, min_samples_leaf=6, min_samples_split=9, n_estimators=200; total time=   1.3s\n",
      "[CV] END criterion=entropy, max_depth=670, max_features=sqrt, min_samples_leaf=2, min_samples_split=4, n_estimators=1600; total time=  10.6s\n",
      "[CV] END criterion=gini, max_depth=340, max_features=sqrt, min_samples_leaf=6, min_samples_split=5, n_estimators=2000; total time=  16.7s\n",
      "[CV] END criterion=entropy, max_depth=230, max_features=log2, min_samples_leaf=4, min_samples_split=1, n_estimators=1400; total time=   1.3s\n",
      "[CV] END criterion=entropy, max_depth=230, max_features=log2, min_samples_leaf=4, min_samples_split=1, n_estimators=1400; total time=   1.2s\n",
      "[CV] END criterion=gini, max_depth=890, max_features=auto, min_samples_leaf=4, min_samples_split=5, n_estimators=1000; total time=   8.8s\n",
      "[CV] END criterion=entropy, max_depth=450, max_features=sqrt, min_samples_leaf=1, min_samples_split=7, n_estimators=2000; total time=  21.1s\n",
      "[CV] END criterion=entropy, max_depth=780, max_features=log2, min_samples_leaf=4, min_samples_split=9, n_estimators=1000; total time=   6.5s\n",
      "[CV] END criterion=gini, max_depth=780, max_features=auto, min_samples_leaf=2, min_samples_split=5, n_estimators=200; total time=   1.9s\n",
      "[CV] END criterion=entropy, max_depth=890, max_features=auto, min_samples_leaf=1, min_samples_split=4, n_estimators=400; total time=   3.4s\n",
      "[CV] END criterion=entropy, max_depth=890, max_features=auto, min_samples_leaf=1, min_samples_split=4, n_estimators=400; total time=   2.8s\n",
      "[CV] END criterion=entropy, max_depth=10, max_features=sqrt, min_samples_leaf=6, min_samples_split=1, n_estimators=1800; total time=   1.5s\n",
      "[CV] END criterion=gini, max_depth=780, max_features=auto, min_samples_leaf=2, min_samples_split=1, n_estimators=200; total time=   0.2s\n",
      "[CV] END criterion=entropy, max_depth=450, max_features=sqrt, min_samples_leaf=6, min_samples_split=4, n_estimators=2000; total time=  11.5s\n",
      "[CV] END criterion=gini, max_depth=780, max_features=log2, min_samples_leaf=4, min_samples_split=9, n_estimators=2000; total time=  11.7s\n",
      "[CV] END criterion=gini, max_depth=230, max_features=log2, min_samples_leaf=1, min_samples_split=7, n_estimators=1000; total time=   6.2s\n",
      "[CV] END criterion=gini, max_depth=560, max_features=log2, min_samples_leaf=1, min_samples_split=4, n_estimators=800; total time=   4.7s\n",
      "[CV] END criterion=entropy, max_depth=670, max_features=log2, min_samples_leaf=6, min_samples_split=1, n_estimators=600; total time=   0.4s\n",
      "[CV] END criterion=entropy, max_depth=340, max_features=sqrt, min_samples_leaf=8, min_samples_split=7, n_estimators=1400; total time=   7.2s\n",
      "[CV] END criterion=gini, max_depth=560, max_features=sqrt, min_samples_leaf=4, min_samples_split=3, n_estimators=1800; total time=  12.9s\n",
      "[CV] END criterion=gini, max_depth=230, max_features=auto, min_samples_leaf=6, min_samples_split=4, n_estimators=600; total time=   4.0s\n",
      "[CV] END criterion=gini, max_depth=120, max_features=auto, min_samples_leaf=1, min_samples_split=3, n_estimators=400; total time=   2.7s\n",
      "[CV] END criterion=entropy, max_depth=1000, max_features=sqrt, min_samples_leaf=1, min_samples_split=3, n_estimators=1800; total time=  10.7s\n",
      "[CV] END criterion=entropy, max_depth=120, max_features=log2, min_samples_leaf=6, min_samples_split=4, n_estimators=400; total time=   1.9s\n",
      "[CV] END criterion=entropy, max_depth=120, max_features=log2, min_samples_leaf=6, min_samples_split=4, n_estimators=400; total time=   2.0s\n",
      "[CV] END criterion=entropy, max_depth=670, max_features=sqrt, min_samples_leaf=1, min_samples_split=7, n_estimators=1800; total time=  10.9s\n",
      "[CV] END criterion=entropy, max_depth=230, max_features=log2, min_samples_leaf=6, min_samples_split=7, n_estimators=1400; total time=   7.0s\n",
      "[CV] END criterion=entropy, max_depth=560, max_features=sqrt, min_samples_leaf=2, min_samples_split=7, n_estimators=2000; total time=  11.8s\n",
      "[CV] END criterion=entropy, max_depth=890, max_features=log2, min_samples_leaf=6, min_samples_split=7, n_estimators=600; total time=   2.9s\n",
      "[CV] END criterion=gini, max_depth=670, max_features=sqrt, min_samples_leaf=8, min_samples_split=3, n_estimators=1600; total time=   8.9s\n"
     ]
    },
    {
     "name": "stdout",
     "output_type": "stream",
     "text": [
      "[CV] END criterion=entropy, max_depth=670, max_features=auto, min_samples_leaf=8, min_samples_split=1, n_estimators=200; total time=   0.1s\n",
      "[CV] END criterion=gini, max_depth=340, max_features=sqrt, min_samples_leaf=2, min_samples_split=9, n_estimators=2000; total time=  14.3s\n",
      "[CV] END criterion=gini, max_depth=560, max_features=log2, min_samples_leaf=4, min_samples_split=7, n_estimators=200; total time=   1.3s\n",
      "[CV] END criterion=gini, max_depth=560, max_features=log2, min_samples_leaf=4, min_samples_split=7, n_estimators=200; total time=   1.5s\n",
      "[CV] END criterion=gini, max_depth=120, max_features=auto, min_samples_leaf=6, min_samples_split=1, n_estimators=600; total time=   0.5s\n",
      "[CV] END criterion=gini, max_depth=120, max_features=auto, min_samples_leaf=6, min_samples_split=1, n_estimators=600; total time=   0.5s\n",
      "[CV] END criterion=gini, max_depth=560, max_features=sqrt, min_samples_leaf=2, min_samples_split=5, n_estimators=200; total time=   1.5s\n",
      "[CV] END criterion=entropy, max_depth=670, max_features=auto, min_samples_leaf=8, min_samples_split=1, n_estimators=1400; total time=   1.1s\n",
      "[CV] END criterion=entropy, max_depth=670, max_features=auto, min_samples_leaf=8, min_samples_split=1, n_estimators=1400; total time=   1.1s\n",
      "[CV] END criterion=gini, max_depth=450, max_features=log2, min_samples_leaf=2, min_samples_split=5, n_estimators=1600; total time=  10.8s\n",
      "[CV] END criterion=gini, max_depth=1000, max_features=log2, min_samples_leaf=1, min_samples_split=4, n_estimators=1000; total time=   7.0s\n",
      "[CV] END criterion=gini, max_depth=10, max_features=log2, min_samples_leaf=4, min_samples_split=1, n_estimators=800; total time=   1.3s\n",
      "[CV] END criterion=entropy, max_depth=670, max_features=sqrt, min_samples_leaf=2, min_samples_split=1, n_estimators=2000; total time=   1.9s\n",
      "[CV] END criterion=gini, max_depth=780, max_features=auto, min_samples_leaf=4, min_samples_split=5, n_estimators=800; total time=   6.4s\n",
      "[CV] END criterion=entropy, max_depth=780, max_features=log2, min_samples_leaf=1, min_samples_split=1, n_estimators=400; total time=   0.4s\n",
      "[CV] END criterion=entropy, max_depth=780, max_features=log2, min_samples_leaf=1, min_samples_split=1, n_estimators=400; total time=   0.3s\n",
      "[CV] END criterion=entropy, max_depth=780, max_features=log2, min_samples_leaf=1, min_samples_split=1, n_estimators=400; total time=   0.4s\n",
      "[CV] END criterion=gini, max_depth=230, max_features=auto, min_samples_leaf=1, min_samples_split=7, n_estimators=800; total time=   6.4s\n",
      "[CV] END criterion=gini, max_depth=230, max_features=log2, min_samples_leaf=8, min_samples_split=9, n_estimators=1200; total time=   7.7s\n",
      "[CV] END criterion=gini, max_depth=120, max_features=log2, min_samples_leaf=1, min_samples_split=9, n_estimators=1600; total time=  12.7s\n",
      "[CV] END criterion=gini, max_depth=340, max_features=log2, min_samples_leaf=8, min_samples_split=5, n_estimators=400; total time=   2.4s\n",
      "[CV] END criterion=gini, max_depth=340, max_features=log2, min_samples_leaf=8, min_samples_split=5, n_estimators=400; total time=   2.8s\n",
      "[CV] END criterion=gini, max_depth=230, max_features=log2, min_samples_leaf=4, min_samples_split=7, n_estimators=1600; total time=  18.4s\n",
      "[CV] END criterion=gini, max_depth=120, max_features=sqrt, min_samples_leaf=6, min_samples_split=5, n_estimators=600; total time=   5.3s\n",
      "[CV] END criterion=entropy, max_depth=120, max_features=log2, min_samples_leaf=6, min_samples_split=9, n_estimators=1800; total time=  12.0s\n",
      "[CV] END criterion=entropy, max_depth=670, max_features=log2, min_samples_leaf=6, min_samples_split=5, n_estimators=600; total time=   3.5s\n",
      "[CV] END criterion=gini, max_depth=670, max_features=log2, min_samples_leaf=6, min_samples_split=1, n_estimators=600; total time=   0.5s\n",
      "[CV] END criterion=entropy, max_depth=450, max_features=sqrt, min_samples_leaf=6, min_samples_split=4, n_estimators=2000; total time=  11.1s\n",
      "[CV] END criterion=entropy, max_depth=120, max_features=log2, min_samples_leaf=4, min_samples_split=7, n_estimators=1600; total time=   8.6s\n",
      "[CV] END criterion=gini, max_depth=450, max_features=log2, min_samples_leaf=8, min_samples_split=7, n_estimators=1800; total time=  10.2s\n",
      "[CV] END criterion=entropy, max_depth=120, max_features=log2, min_samples_leaf=8, min_samples_split=9, n_estimators=1600; total time=   7.6s\n",
      "[CV] END criterion=entropy, max_depth=670, max_features=log2, min_samples_leaf=6, min_samples_split=9, n_estimators=2000; total time=   9.8s\n",
      "[CV] END criterion=entropy, max_depth=890, max_features=log2, min_samples_leaf=4, min_samples_split=7, n_estimators=2000; total time=  11.2s\n",
      "[CV] END criterion=gini, max_depth=230, max_features=auto, min_samples_leaf=6, min_samples_split=4, n_estimators=600; total time=   4.0s\n",
      "[CV] END criterion=entropy, max_depth=560, max_features=sqrt, min_samples_leaf=2, min_samples_split=9, n_estimators=1000; total time=   5.9s\n",
      "[CV] END criterion=entropy, max_depth=340, max_features=log2, min_samples_leaf=8, min_samples_split=4, n_estimators=1800; total time=   8.7s\n",
      "[CV] END criterion=gini, max_depth=230, max_features=log2, min_samples_leaf=4, min_samples_split=5, n_estimators=2000; total time=  11.7s\n",
      "[CV] END criterion=entropy, max_depth=560, max_features=auto, min_samples_leaf=1, min_samples_split=5, n_estimators=1200; total time=   7.1s\n",
      "[CV] END criterion=gini, max_depth=10, max_features=log2, min_samples_leaf=2, min_samples_split=7, n_estimators=400; total time=   1.9s\n",
      "[CV] END criterion=entropy, max_depth=10, max_features=sqrt, min_samples_leaf=4, min_samples_split=1, n_estimators=2000; total time=   1.4s\n",
      "[CV] END criterion=gini, max_depth=1000, max_features=auto, min_samples_leaf=2, min_samples_split=4, n_estimators=1600; total time=  10.7s\n",
      "[CV] END criterion=gini, max_depth=230, max_features=log2, min_samples_leaf=2, min_samples_split=4, n_estimators=1600; total time=   7.9s\n",
      "[CV] END criterion=gini, max_depth=560, max_features=log2, min_samples_leaf=1, min_samples_split=7, n_estimators=1600; total time=   9.0s\n",
      "[CV] END criterion=entropy, max_depth=10, max_features=auto, min_samples_leaf=2, min_samples_split=3, n_estimators=2000; total time=  12.5s\n",
      "[CV] END criterion=gini, max_depth=1000, max_features=auto, min_samples_leaf=2, min_samples_split=4, n_estimators=1400; total time=  10.9s\n",
      "[CV] END criterion=gini, max_depth=1000, max_features=log2, min_samples_leaf=1, min_samples_split=4, n_estimators=1000; total time=   6.7s\n",
      "[CV] END criterion=gini, max_depth=230, max_features=sqrt, min_samples_leaf=1, min_samples_split=9, n_estimators=600; total time=   5.9s\n",
      "[CV] END criterion=entropy, max_depth=670, max_features=log2, min_samples_leaf=6, min_samples_split=9, n_estimators=200; total time=   1.3s\n",
      "[CV] END criterion=entropy, max_depth=670, max_features=sqrt, min_samples_leaf=2, min_samples_split=4, n_estimators=1600; total time=  11.0s\n",
      "[CV] END criterion=gini, max_depth=230, max_features=log2, min_samples_leaf=8, min_samples_split=9, n_estimators=1200; total time=   7.9s\n",
      "[CV] END criterion=gini, max_depth=450, max_features=sqrt, min_samples_leaf=4, min_samples_split=9, n_estimators=200; total time=   2.0s\n",
      "[CV] END criterion=gini, max_depth=890, max_features=auto, min_samples_leaf=6, min_samples_split=1, n_estimators=1400; total time=   1.4s\n",
      "[CV] END criterion=gini, max_depth=890, max_features=auto, min_samples_leaf=6, min_samples_split=1, n_estimators=1400; total time=   1.3s\n",
      "[CV] END criterion=entropy, max_depth=10, max_features=log2, min_samples_leaf=8, min_samples_split=7, n_estimators=2000; total time=  11.7s\n",
      "[CV] END criterion=gini, max_depth=230, max_features=log2, min_samples_leaf=4, min_samples_split=7, n_estimators=1600; total time=  18.2s\n",
      "[CV] END criterion=entropy, max_depth=10, max_features=log2, min_samples_leaf=6, min_samples_split=4, n_estimators=1400; total time=   8.7s\n",
      "[CV] END criterion=gini, max_depth=10, max_features=log2, min_samples_leaf=4, min_samples_split=4, n_estimators=400; total time=   2.5s\n",
      "[CV] END criterion=gini, max_depth=780, max_features=auto, min_samples_leaf=2, min_samples_split=5, n_estimators=200; total time=   2.0s\n",
      "[CV] END criterion=entropy, max_depth=1000, max_features=auto, min_samples_leaf=2, min_samples_split=7, n_estimators=2000; total time=  14.0s\n",
      "[CV] END criterion=gini, max_depth=120, max_features=log2, min_samples_leaf=2, min_samples_split=7, n_estimators=600; total time=   3.6s\n",
      "[CV] END criterion=entropy, max_depth=450, max_features=log2, min_samples_leaf=1, min_samples_split=4, n_estimators=1600; total time=   9.0s\n",
      "[CV] END criterion=gini, max_depth=560, max_features=auto, min_samples_leaf=1, min_samples_split=4, n_estimators=1600; total time=  11.4s\n",
      "[CV] END criterion=gini, max_depth=560, max_features=log2, min_samples_leaf=1, min_samples_split=4, n_estimators=800; total time=   4.6s\n",
      "[CV] END criterion=gini, max_depth=1000, max_features=auto, min_samples_leaf=4, min_samples_split=1, n_estimators=800; total time=   0.6s\n",
      "[CV] END criterion=entropy, max_depth=670, max_features=log2, min_samples_leaf=6, min_samples_split=1, n_estimators=600; total time=   0.4s\n",
      "[CV] END criterion=entropy, max_depth=560, max_features=log2, min_samples_leaf=6, min_samples_split=3, n_estimators=200; total time=   1.0s\n",
      "[CV] END criterion=gini, max_depth=230, max_features=auto, min_samples_leaf=8, min_samples_split=9, n_estimators=600; total time=   3.8s\n",
      "[CV] END criterion=entropy, max_depth=670, max_features=log2, min_samples_leaf=6, min_samples_split=9, n_estimators=2000; total time=  10.4s\n",
      "[CV] END criterion=gini, max_depth=670, max_features=auto, min_samples_leaf=8, min_samples_split=3, n_estimators=200; total time=   1.4s\n",
      "[CV] END criterion=gini, max_depth=670, max_features=auto, min_samples_leaf=8, min_samples_split=3, n_estimators=200; total time=   1.5s\n",
      "[CV] END criterion=entropy, max_depth=890, max_features=auto, min_samples_leaf=6, min_samples_split=7, n_estimators=1000; total time=   5.4s\n",
      "[CV] END criterion=gini, max_depth=230, max_features=auto, min_samples_leaf=6, min_samples_split=4, n_estimators=600; total time=   4.0s\n",
      "[CV] END criterion=entropy, max_depth=560, max_features=sqrt, min_samples_leaf=2, min_samples_split=9, n_estimators=1000; total time=   5.6s\n",
      "[CV] END criterion=gini, max_depth=670, max_features=log2, min_samples_leaf=8, min_samples_split=7, n_estimators=200; total time=   1.1s\n",
      "[CV] END criterion=entropy, max_depth=1000, max_features=sqrt, min_samples_leaf=1, min_samples_split=9, n_estimators=1000; total time=   5.7s\n",
      "[CV] END criterion=entropy, max_depth=670, max_features=sqrt, min_samples_leaf=1, min_samples_split=7, n_estimators=1800; total time=  10.6s\n",
      "[CV] END criterion=entropy, max_depth=670, max_features=sqrt, min_samples_leaf=6, min_samples_split=9, n_estimators=2000; total time=  11.1s\n",
      "[CV] END criterion=entropy, max_depth=230, max_features=sqrt, min_samples_leaf=1, min_samples_split=5, n_estimators=1600; total time=   9.5s\n",
      "[CV] END criterion=entropy, max_depth=890, max_features=log2, min_samples_leaf=6, min_samples_split=7, n_estimators=600; total time=   2.9s\n",
      "[CV] END criterion=gini, max_depth=670, max_features=sqrt, min_samples_leaf=8, min_samples_split=3, n_estimators=1600; total time=   8.8s\n"
     ]
    }
   ],
   "source": [
    "print(classification_report(y_test,rf.predict(X_test)))"
   ]
  },
  {
   "cell_type": "code",
   "execution_count": 32,
   "id": "9e267b79",
   "metadata": {},
   "outputs": [
    {
     "data": {
      "text/plain": [
       "RandomForestClassifier(max_depth=560, max_features='log2', min_samples_split=7,\n",
       "                       n_estimators=1600)"
      ]
     },
     "execution_count": 32,
     "metadata": {},
     "output_type": "execute_result"
    }
   ],
   "source": [
    "rf_randomcv.best_estimator_"
   ]
  },
  {
   "cell_type": "code",
   "execution_count": null,
   "id": "c9394805",
   "metadata": {},
   "outputs": [],
   "source": []
  }
 ],
 "metadata": {
  "kernelspec": {
   "display_name": "Python 3 (ipykernel)",
   "language": "python",
   "name": "python3"
  },
  "language_info": {
   "codemirror_mode": {
    "name": "ipython",
    "version": 3
   },
   "file_extension": ".py",
   "mimetype": "text/x-python",
   "name": "python",
   "nbconvert_exporter": "python",
   "pygments_lexer": "ipython3",
   "version": "3.9.6"
  }
 },
 "nbformat": 4,
 "nbformat_minor": 5
}
