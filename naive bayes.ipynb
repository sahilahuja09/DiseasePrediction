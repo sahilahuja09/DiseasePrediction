{
 "cells": [
  {
   "cell_type": "code",
   "execution_count": 1,
   "id": "71bf834e",
   "metadata": {},
   "outputs": [],
   "source": [
    "import numpy as np\n",
    "import pandas as pd\n",
    "from scipy.stats import mode\n",
    "import matplotlib.pyplot as plt\n",
    "import seaborn as sns\n",
    "from sklearn.preprocessing import LabelEncoder\n",
    "from sklearn.model_selection import train_test_split, cross_val_score\n",
    "from sklearn.svm import SVC\n",
    "from sklearn.naive_bayes import GaussianNB\n",
    "from sklearn.ensemble import RandomForestClassifier\n",
    "from sklearn.metrics import accuracy_score, confusion_matrix\n",
    "\n",
    "\n",
    "train_data = pd.read_csv(\"Training.csv\").dropna(axis=1)\n",
    "\n",
    "train_data.head()\n",
    "\n",
    "test_data = pd.read_csv(\"Testing6.csv\")"
   ]
  },
  {
   "cell_type": "code",
   "execution_count": 2,
   "id": "abf094e4",
   "metadata": {},
   "outputs": [
    {
     "data": {
      "text/plain": [
       "0    15\n",
       "1    15\n",
       "2    15\n",
       "3    15\n",
       "4    15\n",
       "Name: prognosis, dtype: int64"
      ]
     },
     "execution_count": 2,
     "metadata": {},
     "output_type": "execute_result"
    }
   ],
   "source": [
    "encoder = LabelEncoder()\n",
    "\n",
    "train_data['prognosis'] = encoder.fit_transform(train_data['prognosis'])\n",
    "test_data['prognosis'] = encoder.fit_transform(test_data['prognosis'])\n",
    "\n",
    "X_train = train_data.iloc[:,:-1]\n",
    "y_train=train_data.iloc[:,-1]\n",
    "\n",
    "X_train.head()\n",
    "\n",
    "y_train.head()"
   ]
  },
  {
   "cell_type": "code",
   "execution_count": 3,
   "id": "b5f46c4c",
   "metadata": {},
   "outputs": [],
   "source": [
    "X_test = test_data.iloc[:,:-1]\n",
    "y_test=test_data.iloc[:,-1]"
   ]
  },
  {
   "cell_type": "code",
   "execution_count": 4,
   "id": "6d145807",
   "metadata": {},
   "outputs": [],
   "source": [
    "nb = GaussianNB()"
   ]
  },
  {
   "cell_type": "code",
   "execution_count": 5,
   "id": "2864f69b",
   "metadata": {},
   "outputs": [
    {
     "data": {
      "text/plain": [
       "GaussianNB()"
      ]
     },
     "execution_count": 5,
     "metadata": {},
     "output_type": "execute_result"
    }
   ],
   "source": [
    "nb.fit(X_train,y_train)"
   ]
  },
  {
   "cell_type": "code",
   "execution_count": 6,
   "id": "a0521870",
   "metadata": {},
   "outputs": [],
   "source": [
    "yhat = nb.predict(X_test)"
   ]
  },
  {
   "cell_type": "code",
   "execution_count": 7,
   "id": "ab10aa5e",
   "metadata": {},
   "outputs": [
    {
     "data": {
      "text/plain": [
       "0.9603174603174603"
      ]
     },
     "execution_count": 7,
     "metadata": {},
     "output_type": "execute_result"
    }
   ],
   "source": [
    "accuracy_score(y_test,yhat)"
   ]
  },
  {
   "cell_type": "code",
   "execution_count": 9,
   "id": "e3b15b00",
   "metadata": {},
   "outputs": [],
   "source": [
    "from sklearn.metrics import classification_report"
   ]
  },
  {
   "cell_type": "code",
   "execution_count": 11,
   "id": "a539b726",
   "metadata": {},
   "outputs": [
    {
     "name": "stdout",
     "output_type": "stream",
     "text": [
      "              precision    recall  f1-score   support\n",
      "\n",
      "           0       1.00      0.67      0.80         3\n",
      "           1       1.00      1.00      1.00         3\n",
      "           2       0.75      1.00      0.86         3\n",
      "           3       1.00      0.67      0.80         3\n",
      "           4       1.00      1.00      1.00         3\n",
      "           5       1.00      1.00      1.00         3\n",
      "           6       1.00      1.00      1.00         3\n",
      "           7       1.00      1.00      1.00         3\n",
      "           8       1.00      1.00      1.00         3\n",
      "           9       1.00      1.00      1.00         3\n",
      "          10       1.00      1.00      1.00         3\n",
      "          11       1.00      0.67      0.80         3\n",
      "          12       1.00      1.00      1.00         3\n",
      "          13       1.00      1.00      1.00         3\n",
      "          14       1.00      1.00      1.00         3\n",
      "          15       1.00      0.83      0.91         6\n",
      "          16       1.00      1.00      1.00         3\n",
      "          17       1.00      1.00      1.00         3\n",
      "          18       1.00      1.00      1.00         3\n",
      "          19       1.00      1.00      1.00         3\n",
      "          20       0.60      1.00      0.75         3\n",
      "          21       1.00      1.00      1.00         3\n",
      "          22       1.00      1.00      1.00         3\n",
      "          23       1.00      1.00      1.00         3\n",
      "          24       1.00      1.00      1.00         3\n",
      "          25       1.00      1.00      1.00         3\n",
      "          26       1.00      1.00      1.00         3\n",
      "          27       1.00      1.00      1.00         3\n",
      "          28       1.00      1.00      1.00         3\n",
      "          29       1.00      1.00      1.00         3\n",
      "          30       1.00      1.00      1.00         3\n",
      "          31       1.00      1.00      1.00         3\n",
      "          32       1.00      1.00      1.00         3\n",
      "          33       1.00      1.00      1.00         3\n",
      "          34       0.75      1.00      0.86         3\n",
      "          35       0.75      1.00      0.86         3\n",
      "          36       1.00      1.00      1.00         3\n",
      "          37       1.00      1.00      1.00         3\n",
      "          38       1.00      1.00      1.00         3\n",
      "          39       1.00      0.67      0.80         3\n",
      "          40       1.00      1.00      1.00         3\n",
      "\n",
      "    accuracy                           0.96       126\n",
      "   macro avg       0.97      0.96      0.96       126\n",
      "weighted avg       0.97      0.96      0.96       126\n",
      "\n"
     ]
    }
   ],
   "source": [
    "print(classification_report(y_test,yhat))"
   ]
  },
  {
   "cell_type": "code",
   "execution_count": null,
   "id": "5b43fe8a",
   "metadata": {},
   "outputs": [],
   "source": []
  }
 ],
 "metadata": {
  "kernelspec": {
   "display_name": "Python 3 (ipykernel)",
   "language": "python",
   "name": "python3"
  },
  "language_info": {
   "codemirror_mode": {
    "name": "ipython",
    "version": 3
   },
   "file_extension": ".py",
   "mimetype": "text/x-python",
   "name": "python",
   "nbconvert_exporter": "python",
   "pygments_lexer": "ipython3",
   "version": "3.9.6"
  }
 },
 "nbformat": 4,
 "nbformat_minor": 5
}
